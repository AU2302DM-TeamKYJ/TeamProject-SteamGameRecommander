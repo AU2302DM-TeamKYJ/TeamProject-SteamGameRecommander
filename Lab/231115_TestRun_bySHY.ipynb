{
  "nbformat": 4,
  "nbformat_minor": 0,
  "metadata": {
    "colab": {
      "provenance": [],
      "mount_file_id": "1wk56nXvN_GaJuG6i2Ys-JiYzNEYBj-RK",
      "authorship_tag": "ABX9TyPgGMKFXtaxVayuBNjx3nkq",
      "include_colab_link": true
    },
    "kernelspec": {
      "name": "python3",
      "display_name": "Python 3"
    },
    "language_info": {
      "name": "python"
    }
  },
  "cells": [
    {
      "cell_type": "markdown",
      "metadata": {
        "id": "view-in-github",
        "colab_type": "text"
      },
      "source": [
        "<a href=\"https://colab.research.google.com/github/AU2302DM-TeamKYJ/TeamProject-SteamGameRecommander/blob/main/Lab/231115_TestRun_bySHY.ipynb\" target=\"_parent\"><img src=\"https://colab.research.google.com/assets/colab-badge.svg\" alt=\"Open In Colab\"/></a>"
      ]
    },
    {
      "cell_type": "code",
      "source": [
        "import numpy as np\n",
        "import pandas as pd\n",
        "import urllib.request\n",
        "import json\n",
        "from pandas import json_normalize\n",
        "from urllib.parse import urlencode, quote_plus, unquote"
      ],
      "metadata": {
        "id": "JDGufeVHoKp3"
      },
      "execution_count": 1,
      "outputs": []
    },
    {
      "cell_type": "code",
      "execution_count": null,
      "metadata": {
        "id": "QsGhR6Fu-w7x"
      },
      "outputs": [],
      "source": [
        "api = 'http://api.steampowered.com/ISteamUser/GetFriendList/v0001/'\n",
        "steamid = '76561198003081163' # 스트리머 우왁굳\n",
        "queryParams = '?' + urlencode({quote_plus('key') : '',\n",
        "                               quote_plus('steamid') : steamid,\n",
        "                               quote_plus('relationship') : 'friend'\n",
        "                               })\n",
        "url = api+queryParams"
      ]
    },
    {
      "cell_type": "code",
      "source": [
        "print(url)"
      ],
      "metadata": {
        "id": "I5yDFRO1_Wfc"
      },
      "execution_count": null,
      "outputs": []
    },
    {
      "cell_type": "code",
      "source": [
        "already_scanned ="
      ],
      "metadata": {
        "id": "3DXV9fUlFCae"
      },
      "execution_count": null,
      "outputs": []
    },
    {
      "cell_type": "code",
      "source": [
        "#데이터를 요청하고 변환합니다.\n",
        "text = urllib.request.urlopen(url).read().decode('utf-8')\n",
        "json_return = json.loads(text)\n",
        "# get_data = json_return.get('friendlist')\n",
        "# df = json_normalize(get_data['body']['items'])"
      ],
      "metadata": {
        "id": "1AGPcvGH_W67"
      },
      "execution_count": null,
      "outputs": []
    },
    {
      "cell_type": "code",
      "source": [
        "friends_list = []\n",
        "\n",
        "friends_data = json_return.get('friendslist').get('friends')\n",
        "for friend in friends_data:\n",
        "    friends_list.append(friend.get('steamid'))\n",
        "friends_list = np.unique(friends_list)"
      ],
      "metadata": {
        "id": "stVtP9TF_6da"
      },
      "execution_count": null,
      "outputs": []
    },
    {
      "cell_type": "code",
      "source": [
        "print(friends_list)"
      ],
      "metadata": {
        "id": "Q7eesOFn_ntL"
      },
      "execution_count": null,
      "outputs": []
    },
    {
      "cell_type": "code",
      "source": [
        "api = 'http://api.steampowered.com/IPlayerService/GetOwnedGames/v0001/'\n",
        "steamid = '76561197973315893' # 76561197973315893 : 스트리머 우왁굳의 친구 리스트 중 한 명\n",
        "queryParams = '?' + urlencode({quote_plus('key') : '',\n",
        "                               quote_plus('steamid') : steamid,\n",
        "                               quote_plus('include_played_free_games') : 1,\n",
        "                               quote_plus('format') : 'json'\n",
        "                               })\n",
        "url = api+queryParams"
      ],
      "metadata": {
        "id": "B75CPzKQnOKZ"
      },
      "execution_count": null,
      "outputs": []
    },
    {
      "cell_type": "code",
      "source": [
        "print(json_return)"
      ],
      "metadata": {
        "id": "E1-OSCtUoZu-"
      },
      "execution_count": null,
      "outputs": []
    },
    {
      "cell_type": "code",
      "source": [
        "print(json_return.get('response') == {})"
      ],
      "metadata": {
        "colab": {
          "base_uri": "https://localhost:8080/"
        },
        "id": "YPXD-P33pns5",
        "outputId": "9baf5cf4-ed87-47e9-84ae-3eb75c523ad3"
      },
      "execution_count": null,
      "outputs": [
        {
          "output_type": "stream",
          "name": "stdout",
          "text": [
            "True\n"
          ]
        }
      ]
    },
    {
      "cell_type": "code",
      "source": [
        "friends_csv = pd.read_csv('/content/drive/MyDrive/Colab Notebooks/DM2302/Project/steamIds.csv')\n",
        "\n",
        "gamers = []\n",
        "\n",
        "for user in friends_csv['Steam ID']:\n",
        "    api = 'http://api.steampowered.com/IPlayerService/GetOwnedGames/v0001/'\n",
        "    steamid = user # 76561197973315893 : 스트리머 우왁굳의 친구 리스트 중 한 명\n",
        "    queryParams = '?' + urlencode({quote_plus('key') : '',\n",
        "                                  quote_plus('steamid') : steamid,\n",
        "                                  quote_plus('include_played_free_games') : 1,\n",
        "                                  quote_plus('format') : 'json'\n",
        "                                  })\n",
        "    url = api+queryParams\n",
        "\n",
        "    text = urllib.request.urlopen(url).read().decode('utf-8')\n",
        "    json_return = json.loads(text)\n",
        "\n",
        "    if json_return.get('response') == {}:\n",
        "        continue\n",
        "\n",
        "    played_game_list = []\n",
        "\n",
        "    owned_game_list = json_return.get('response').get('games')\n",
        "    for game in owned_game_list:\n",
        "        if game.get('playtime_forever') == 0:\n",
        "            continue\n",
        "        played_game_list.append(game.get('appid'))\n",
        "\n",
        "    gamers.append({steamid : played_game_list})"
      ],
      "metadata": {
        "id": "h1VST34Tr6g4"
      },
      "execution_count": null,
      "outputs": []
    },
    {
      "cell_type": "code",
      "source": [
        "print(gamers)"
      ],
      "metadata": {
        "id": "F75efZSf3KiO"
      },
      "execution_count": null,
      "outputs": []
    },
    {
      "cell_type": "code",
      "source": [
        "import csv\n",
        "\n",
        "f = open('out2.csv', 'w', newline='')\n",
        "\n",
        "writer = csv.writer(f)\n",
        "writer.writerows(gamers)\n",
        "f.close()"
      ],
      "metadata": {
        "id": "6DKeJQD6vY4r"
      },
      "execution_count": null,
      "outputs": []
    },
    {
      "cell_type": "code",
      "source": [
        "df.to_csv('/content/drive/MyDrive/Colab Notebooks/DM2302/Project/id_premitive.csv')"
      ],
      "metadata": {
        "id": "M-N53bSm4hGh"
      },
      "execution_count": 75,
      "outputs": []
    },
    {
      "cell_type": "code",
      "source": [
        "pre_df = []\n",
        "\n",
        "for user in gamers:\n",
        "    for id in list(user.keys()):\n",
        "        for game in user[id]:\n",
        "            pre_df.append([id, game])"
      ],
      "metadata": {
        "id": "IdIKfMBc5bSN"
      },
      "execution_count": 66,
      "outputs": []
    },
    {
      "cell_type": "code",
      "source": [],
      "metadata": {
        "id": "gSLiarOxbX2o"
      },
      "execution_count": null,
      "outputs": []
    },
    {
      "cell_type": "code",
      "source": [
        "df = pd.DataFrame(pre_df)\n",
        "df.columns = ['UserID', 'GameID']\n",
        "df.head()"
      ],
      "metadata": {
        "colab": {
          "base_uri": "https://localhost:8080/",
          "height": 206
        },
        "id": "URURtkrRXbEB",
        "outputId": "b1b0ed07-24c6-4063-82c7-44d3faad4f08"
      },
      "execution_count": 74,
      "outputs": [
        {
          "output_type": "execute_result",
          "data": {
            "text/plain": [
              "              UserID  GameID\n",
              "0  76561197967479980      10\n",
              "1  76561197967479980     220\n",
              "2  76561197967479980     240\n",
              "3  76561197967479980    4000\n",
              "4  76561197967479980     400"
            ],
            "text/html": [
              "\n",
              "  <div id=\"df-9dc7af17-2b7e-4ba7-9603-05d9095c203f\" class=\"colab-df-container\">\n",
              "    <div>\n",
              "<style scoped>\n",
              "    .dataframe tbody tr th:only-of-type {\n",
              "        vertical-align: middle;\n",
              "    }\n",
              "\n",
              "    .dataframe tbody tr th {\n",
              "        vertical-align: top;\n",
              "    }\n",
              "\n",
              "    .dataframe thead th {\n",
              "        text-align: right;\n",
              "    }\n",
              "</style>\n",
              "<table border=\"1\" class=\"dataframe\">\n",
              "  <thead>\n",
              "    <tr style=\"text-align: right;\">\n",
              "      <th></th>\n",
              "      <th>UserID</th>\n",
              "      <th>GameID</th>\n",
              "    </tr>\n",
              "  </thead>\n",
              "  <tbody>\n",
              "    <tr>\n",
              "      <th>0</th>\n",
              "      <td>76561197967479980</td>\n",
              "      <td>10</td>\n",
              "    </tr>\n",
              "    <tr>\n",
              "      <th>1</th>\n",
              "      <td>76561197967479980</td>\n",
              "      <td>220</td>\n",
              "    </tr>\n",
              "    <tr>\n",
              "      <th>2</th>\n",
              "      <td>76561197967479980</td>\n",
              "      <td>240</td>\n",
              "    </tr>\n",
              "    <tr>\n",
              "      <th>3</th>\n",
              "      <td>76561197967479980</td>\n",
              "      <td>4000</td>\n",
              "    </tr>\n",
              "    <tr>\n",
              "      <th>4</th>\n",
              "      <td>76561197967479980</td>\n",
              "      <td>400</td>\n",
              "    </tr>\n",
              "  </tbody>\n",
              "</table>\n",
              "</div>\n",
              "    <div class=\"colab-df-buttons\">\n",
              "\n",
              "  <div class=\"colab-df-container\">\n",
              "    <button class=\"colab-df-convert\" onclick=\"convertToInteractive('df-9dc7af17-2b7e-4ba7-9603-05d9095c203f')\"\n",
              "            title=\"Convert this dataframe to an interactive table.\"\n",
              "            style=\"display:none;\">\n",
              "\n",
              "  <svg xmlns=\"http://www.w3.org/2000/svg\" height=\"24px\" viewBox=\"0 -960 960 960\">\n",
              "    <path d=\"M120-120v-720h720v720H120Zm60-500h600v-160H180v160Zm220 220h160v-160H400v160Zm0 220h160v-160H400v160ZM180-400h160v-160H180v160Zm440 0h160v-160H620v160ZM180-180h160v-160H180v160Zm440 0h160v-160H620v160Z\"/>\n",
              "  </svg>\n",
              "    </button>\n",
              "\n",
              "  <style>\n",
              "    .colab-df-container {\n",
              "      display:flex;\n",
              "      gap: 12px;\n",
              "    }\n",
              "\n",
              "    .colab-df-convert {\n",
              "      background-color: #E8F0FE;\n",
              "      border: none;\n",
              "      border-radius: 50%;\n",
              "      cursor: pointer;\n",
              "      display: none;\n",
              "      fill: #1967D2;\n",
              "      height: 32px;\n",
              "      padding: 0 0 0 0;\n",
              "      width: 32px;\n",
              "    }\n",
              "\n",
              "    .colab-df-convert:hover {\n",
              "      background-color: #E2EBFA;\n",
              "      box-shadow: 0px 1px 2px rgba(60, 64, 67, 0.3), 0px 1px 3px 1px rgba(60, 64, 67, 0.15);\n",
              "      fill: #174EA6;\n",
              "    }\n",
              "\n",
              "    .colab-df-buttons div {\n",
              "      margin-bottom: 4px;\n",
              "    }\n",
              "\n",
              "    [theme=dark] .colab-df-convert {\n",
              "      background-color: #3B4455;\n",
              "      fill: #D2E3FC;\n",
              "    }\n",
              "\n",
              "    [theme=dark] .colab-df-convert:hover {\n",
              "      background-color: #434B5C;\n",
              "      box-shadow: 0px 1px 3px 1px rgba(0, 0, 0, 0.15);\n",
              "      filter: drop-shadow(0px 1px 2px rgba(0, 0, 0, 0.3));\n",
              "      fill: #FFFFFF;\n",
              "    }\n",
              "  </style>\n",
              "\n",
              "    <script>\n",
              "      const buttonEl =\n",
              "        document.querySelector('#df-9dc7af17-2b7e-4ba7-9603-05d9095c203f button.colab-df-convert');\n",
              "      buttonEl.style.display =\n",
              "        google.colab.kernel.accessAllowed ? 'block' : 'none';\n",
              "\n",
              "      async function convertToInteractive(key) {\n",
              "        const element = document.querySelector('#df-9dc7af17-2b7e-4ba7-9603-05d9095c203f');\n",
              "        const dataTable =\n",
              "          await google.colab.kernel.invokeFunction('convertToInteractive',\n",
              "                                                    [key], {});\n",
              "        if (!dataTable) return;\n",
              "\n",
              "        const docLinkHtml = 'Like what you see? Visit the ' +\n",
              "          '<a target=\"_blank\" href=https://colab.research.google.com/notebooks/data_table.ipynb>data table notebook</a>'\n",
              "          + ' to learn more about interactive tables.';\n",
              "        element.innerHTML = '';\n",
              "        dataTable['output_type'] = 'display_data';\n",
              "        await google.colab.output.renderOutput(dataTable, element);\n",
              "        const docLink = document.createElement('div');\n",
              "        docLink.innerHTML = docLinkHtml;\n",
              "        element.appendChild(docLink);\n",
              "      }\n",
              "    </script>\n",
              "  </div>\n",
              "\n",
              "\n",
              "<div id=\"df-bba26f5c-457d-40dc-b1cf-a09cbd1ce675\">\n",
              "  <button class=\"colab-df-quickchart\" onclick=\"quickchart('df-bba26f5c-457d-40dc-b1cf-a09cbd1ce675')\"\n",
              "            title=\"Suggest charts\"\n",
              "            style=\"display:none;\">\n",
              "\n",
              "<svg xmlns=\"http://www.w3.org/2000/svg\" height=\"24px\"viewBox=\"0 0 24 24\"\n",
              "     width=\"24px\">\n",
              "    <g>\n",
              "        <path d=\"M19 3H5c-1.1 0-2 .9-2 2v14c0 1.1.9 2 2 2h14c1.1 0 2-.9 2-2V5c0-1.1-.9-2-2-2zM9 17H7v-7h2v7zm4 0h-2V7h2v10zm4 0h-2v-4h2v4z\"/>\n",
              "    </g>\n",
              "</svg>\n",
              "  </button>\n",
              "\n",
              "<style>\n",
              "  .colab-df-quickchart {\n",
              "      --bg-color: #E8F0FE;\n",
              "      --fill-color: #1967D2;\n",
              "      --hover-bg-color: #E2EBFA;\n",
              "      --hover-fill-color: #174EA6;\n",
              "      --disabled-fill-color: #AAA;\n",
              "      --disabled-bg-color: #DDD;\n",
              "  }\n",
              "\n",
              "  [theme=dark] .colab-df-quickchart {\n",
              "      --bg-color: #3B4455;\n",
              "      --fill-color: #D2E3FC;\n",
              "      --hover-bg-color: #434B5C;\n",
              "      --hover-fill-color: #FFFFFF;\n",
              "      --disabled-bg-color: #3B4455;\n",
              "      --disabled-fill-color: #666;\n",
              "  }\n",
              "\n",
              "  .colab-df-quickchart {\n",
              "    background-color: var(--bg-color);\n",
              "    border: none;\n",
              "    border-radius: 50%;\n",
              "    cursor: pointer;\n",
              "    display: none;\n",
              "    fill: var(--fill-color);\n",
              "    height: 32px;\n",
              "    padding: 0;\n",
              "    width: 32px;\n",
              "  }\n",
              "\n",
              "  .colab-df-quickchart:hover {\n",
              "    background-color: var(--hover-bg-color);\n",
              "    box-shadow: 0 1px 2px rgba(60, 64, 67, 0.3), 0 1px 3px 1px rgba(60, 64, 67, 0.15);\n",
              "    fill: var(--button-hover-fill-color);\n",
              "  }\n",
              "\n",
              "  .colab-df-quickchart-complete:disabled,\n",
              "  .colab-df-quickchart-complete:disabled:hover {\n",
              "    background-color: var(--disabled-bg-color);\n",
              "    fill: var(--disabled-fill-color);\n",
              "    box-shadow: none;\n",
              "  }\n",
              "\n",
              "  .colab-df-spinner {\n",
              "    border: 2px solid var(--fill-color);\n",
              "    border-color: transparent;\n",
              "    border-bottom-color: var(--fill-color);\n",
              "    animation:\n",
              "      spin 1s steps(1) infinite;\n",
              "  }\n",
              "\n",
              "  @keyframes spin {\n",
              "    0% {\n",
              "      border-color: transparent;\n",
              "      border-bottom-color: var(--fill-color);\n",
              "      border-left-color: var(--fill-color);\n",
              "    }\n",
              "    20% {\n",
              "      border-color: transparent;\n",
              "      border-left-color: var(--fill-color);\n",
              "      border-top-color: var(--fill-color);\n",
              "    }\n",
              "    30% {\n",
              "      border-color: transparent;\n",
              "      border-left-color: var(--fill-color);\n",
              "      border-top-color: var(--fill-color);\n",
              "      border-right-color: var(--fill-color);\n",
              "    }\n",
              "    40% {\n",
              "      border-color: transparent;\n",
              "      border-right-color: var(--fill-color);\n",
              "      border-top-color: var(--fill-color);\n",
              "    }\n",
              "    60% {\n",
              "      border-color: transparent;\n",
              "      border-right-color: var(--fill-color);\n",
              "    }\n",
              "    80% {\n",
              "      border-color: transparent;\n",
              "      border-right-color: var(--fill-color);\n",
              "      border-bottom-color: var(--fill-color);\n",
              "    }\n",
              "    90% {\n",
              "      border-color: transparent;\n",
              "      border-bottom-color: var(--fill-color);\n",
              "    }\n",
              "  }\n",
              "</style>\n",
              "\n",
              "  <script>\n",
              "    async function quickchart(key) {\n",
              "      const quickchartButtonEl =\n",
              "        document.querySelector('#' + key + ' button');\n",
              "      quickchartButtonEl.disabled = true;  // To prevent multiple clicks.\n",
              "      quickchartButtonEl.classList.add('colab-df-spinner');\n",
              "      try {\n",
              "        const charts = await google.colab.kernel.invokeFunction(\n",
              "            'suggestCharts', [key], {});\n",
              "      } catch (error) {\n",
              "        console.error('Error during call to suggestCharts:', error);\n",
              "      }\n",
              "      quickchartButtonEl.classList.remove('colab-df-spinner');\n",
              "      quickchartButtonEl.classList.add('colab-df-quickchart-complete');\n",
              "    }\n",
              "    (() => {\n",
              "      let quickchartButtonEl =\n",
              "        document.querySelector('#df-bba26f5c-457d-40dc-b1cf-a09cbd1ce675 button');\n",
              "      quickchartButtonEl.style.display =\n",
              "        google.colab.kernel.accessAllowed ? 'block' : 'none';\n",
              "    })();\n",
              "  </script>\n",
              "</div>\n",
              "    </div>\n",
              "  </div>\n"
            ]
          },
          "metadata": {},
          "execution_count": 74
        }
      ]
    },
    {
      "cell_type": "code",
      "source": [
        "!pip install pyspark\n",
        "!pip install -U -q PyDrive\n",
        "!apt install openjdk-8-jdk-headless -qq\n",
        "import os\n",
        "os.environ[\"JAVA_HOME\"] = \"/usr/lib/jvm/java-8-openjdk-amd64\"\n",
        "\n",
        "import pyspark\n",
        "from pyspark.sql import *\n",
        "from pyspark.sql.functions import *\n",
        "from pyspark import SparkContext, SparkConf"
      ],
      "metadata": {
        "id": "EE3_xQIRYfEp"
      },
      "execution_count": null,
      "outputs": []
    },
    {
      "cell_type": "code",
      "source": [
        "# create the session\n",
        "conf = SparkConf().set(\"spark.ui.port\", \"4050\")\n",
        "\n",
        "# create the context\n",
        "sc = pyspark.SparkContext(conf=conf)\n",
        "spark = SparkSession.builder.getOrCreate()"
      ],
      "metadata": {
        "id": "orrJqiujZy7k"
      },
      "execution_count": 3,
      "outputs": []
    },
    {
      "cell_type": "code",
      "source": [
        "py_df = spark.createDataFrame(df)"
      ],
      "metadata": {
        "id": "YOZbfKxmZXFL"
      },
      "execution_count": 79,
      "outputs": []
    },
    {
      "cell_type": "code",
      "source": [
        "py_df = spark.read.csv('/content/drive/MyDrive/Colab Notebooks/DM2302/Project/id_premitive.csv', header=True, inferSchema=True)\n",
        "py_df = py_df.drop('_c0')"
      ],
      "metadata": {
        "id": "_kWtWRjMbeTx"
      },
      "execution_count": 4,
      "outputs": []
    },
    {
      "cell_type": "code",
      "source": [
        "py_df.printSchema()\n",
        "py_df.show()"
      ],
      "metadata": {
        "colab": {
          "base_uri": "https://localhost:8080/"
        },
        "id": "7uqQCEdTZ9Ko",
        "outputId": "d65a47e6-2174-441c-a81b-b0fea52d80e3"
      },
      "execution_count": 5,
      "outputs": [
        {
          "output_type": "stream",
          "name": "stdout",
          "text": [
            "root\n",
            " |-- UserID: long (nullable = true)\n",
            " |-- GameID: integer (nullable = true)\n",
            "\n",
            "+-----------------+------+\n",
            "|           UserID|GameID|\n",
            "+-----------------+------+\n",
            "|76561197967479980|    10|\n",
            "|76561197967479980|   220|\n",
            "|76561197967479980|   240|\n",
            "|76561197967479980|  4000|\n",
            "|76561197967479980|   400|\n",
            "|76561197967479980|   420|\n",
            "|76561197967479980| 40800|\n",
            "|76561197967479980|   620|\n",
            "|76561197967479980|105600|\n",
            "|76561197967479980|   730|\n",
            "|76561197967479980|204300|\n",
            "|76561197967479980| 51100|\n",
            "|76561197967479980|263280|\n",
            "|76561197967479980|211820|\n",
            "|76561197967479980|286160|\n",
            "|76561197967479980|304050|\n",
            "|76561197967479980|311690|\n",
            "|76561197967479980|271590|\n",
            "|76561197967479980|234630|\n",
            "|76561197967479980|378860|\n",
            "+-----------------+------+\n",
            "only showing top 20 rows\n",
            "\n"
          ]
        }
      ]
    },
    {
      "cell_type": "code",
      "source": [
        "data_grouped = py_df.groupBy(\"UserID\").agg(collect_set('GameID').alias('GamesID'))"
      ],
      "metadata": {
        "id": "oteuMkRbZIBg"
      },
      "execution_count": 6,
      "outputs": []
    },
    {
      "cell_type": "code",
      "source": [
        "data_grouped.printSchema()\n",
        "data_grouped.show()"
      ],
      "metadata": {
        "colab": {
          "base_uri": "https://localhost:8080/"
        },
        "id": "dr1dGUkkaWBJ",
        "outputId": "7aae0f69-3c6e-4e40-c86a-eb0c94378b1d"
      },
      "execution_count": 7,
      "outputs": [
        {
          "output_type": "stream",
          "name": "stdout",
          "text": [
            "root\n",
            " |-- UserID: long (nullable = true)\n",
            " |-- GamesID: array (nullable = false)\n",
            " |    |-- element: integer (containsNull = false)\n",
            "\n",
            "+-----------------+--------------------+\n",
            "|           UserID|             GamesID|\n",
            "+-----------------+--------------------+\n",
            "|76561197960325732|[203160, 10, 4571...|\n",
            "|76561197964253148|[1591520, 1104380...|\n",
            "|76561197966333607|[1104380, 674750,...|\n",
            "|76561197967055907|[266510, 377360, ...|\n",
            "|76561197967479980|[286160, 698610, ...|\n",
            "|76561197968304848|[1938090, 335430,...|\n",
            "|76561197969345471|[214490, 57400, 1...|\n",
            "|76561197969699255|[941570, 110800, ...|\n",
            "|76561197971565071|[396480, 34330, 1...|\n",
            "|76561197973315893|[34330, 289130, 5...|\n",
            "|76561197975276751|[244210, 1938090,...|\n",
            "|76561197977298897|[292120, 292730, ...|\n",
            "|76561197985535105|[248820, 291410, ...|\n",
            "|76561197987255937|[214490, 498240, ...|\n",
            "|76561197987498968|[291410, 262410, ...|\n",
            "|76561197988122922|[298110, 1046930,...|\n",
            "|76561197989992100|[224580, 8930, 19...|\n",
            "|76561197990912803|[360170, 304390, ...|\n",
            "|76561197990972396|[61000, 253030, 3...|\n",
            "|76561197991008176|[8930, 264710, 36...|\n",
            "+-----------------+--------------------+\n",
            "only showing top 20 rows\n",
            "\n"
          ]
        }
      ]
    },
    {
      "cell_type": "code",
      "source": [
        "from pyspark.ml.fpm import FPGrowth\n",
        "fpGrowth = FPGrowth(itemsCol=\"GamesID\", minSupport=0.5, minConfidence=0.9)\n",
        "model = fpGrowth.fit(data_grouped)"
      ],
      "metadata": {
        "id": "ucYK_V7Tafsq"
      },
      "execution_count": 14,
      "outputs": []
    },
    {
      "cell_type": "code",
      "source": [
        "freq_01 = model.freqItemsets\n",
        "asso_01 = model.associationRules\n",
        "print(f\"Count of frequent itemsets: {freq_01.count()}\\nCount of association rules: {asso_01.count()}\\n\")\n",
        "freq_01.sort(desc('freq')).show()\n",
        "asso_01.sort(desc('lift')).show()"
      ],
      "metadata": {
        "colab": {
          "base_uri": "https://localhost:8080/"
        },
        "id": "AjsAIM5vauaJ",
        "outputId": "ec610501-8844-4c2d-a581-228712105558"
      },
      "execution_count": 15,
      "outputs": [
        {
          "output_type": "stream",
          "name": "stdout",
          "text": [
            "Count of frequent itemsets: 22\n",
            "Count of association rules: 9\n",
            "\n",
            "+------------------+----+\n",
            "|             items|freq|\n",
            "+------------------+----+\n",
            "|          [578080]| 290|\n",
            "|             [730]| 229|\n",
            "|             [550]| 225|\n",
            "|     [730, 578080]| 217|\n",
            "|          [431960]| 212|\n",
            "|     [550, 578080]| 211|\n",
            "|             [440]| 208|\n",
            "|          [271590]| 203|\n",
            "|  [431960, 578080]| 200|\n",
            "|     [440, 578080]| 195|\n",
            "|  [271590, 578080]| 188|\n",
            "|        [550, 730]| 179|\n",
            "|          [359550]| 177|\n",
            "|          [218620]| 173|\n",
            "|  [359550, 578080]| 172|\n",
            "|        [440, 550]| 171|\n",
            "|        [440, 730]| 171|\n",
            "|[550, 730, 578080]| 170|\n",
            "|             [570]| 165|\n",
            "|            [4000]| 165|\n",
            "+------------------+----+\n",
            "only showing top 20 rows\n",
            "\n",
            "+----------+----------+------------------+------------------+------------------+\n",
            "|antecedent|consequent|        confidence|              lift|           support|\n",
            "+----------+----------+------------------+------------------+------------------+\n",
            "|  [359550]|  [578080]|0.9717514124293786|1.0890317553087863|0.5292307692307693|\n",
            "|[440, 550]|  [578080]|0.9532163742690059|1.0682597297842307|0.5015384615384615|\n",
            "|[550, 730]|  [578080]|0.9497206703910615|1.0643421306106722|0.5230769230769231|\n",
            "|     [730]|  [578080]|0.9475982532751092|1.0619635597048636|0.6676923076923077|\n",
            "|  [431960]|  [578080]|0.9433962264150944|1.0572543916720885|0.6153846153846154|\n",
            "|  [218620]|  [578080]|0.9421965317919075| 1.055909906318517|0.5015384615384615|\n",
            "|     [550]|  [578080]|0.9377777777777778|1.0509578544061302|0.6492307692307693|\n",
            "|     [440]|  [578080]|            0.9375| 1.050646551724138|               0.6|\n",
            "|  [271590]|  [578080]|0.9261083743842364|1.0378800747409547|0.5784615384615385|\n",
            "+----------+----------+------------------+------------------+------------------+\n",
            "\n"
          ]
        }
      ]
    },
    {
      "cell_type": "code",
      "source": [
        "# 578080 : 배틀그라운드        - 무료게임 O\n",
        "# 359550 : 레인보우식스 시즈    - 무료게임 X\n",
        "# 440 : 팀 포트리스 2         - 무료게임 O\n",
        "# 550 : 레프트 포 데드 2       - 무료게임 O...?\n",
        "# 730 : 카운터 스트라이크 2     - 무료게임 O\n",
        "# 431960 : 월페이퍼 엔진       - 무료게임 X...?\n",
        "# 218620 : 페이데이 2         - 무료게임 X\n",
        "# 271590 : GTA 5            - 무료게임 X\n"
      ],
      "metadata": {
        "id": "GUNYwemWf8Rf"
      },
      "execution_count": null,
      "outputs": []
    }
  ]
}